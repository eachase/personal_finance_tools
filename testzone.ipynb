{
 "cells": [
  {
   "cell_type": "code",
   "execution_count": 6,
   "id": "3cfaa430-41a8-46bb-a144-4d21ee1feca3",
   "metadata": {},
   "outputs": [],
   "source": [
    "import numpy as np\n",
    "\n",
    "from accounts import AccruingAccount, Income"
   ]
  },
  {
   "cell_type": "markdown",
   "id": "beb8083b-3e37-4640-9416-1cc8f4d3aa76",
   "metadata": {},
   "source": [
    "# Interest Accrual\n",
    "Manually check compound interest calculations"
   ]
  },
  {
   "cell_type": "code",
   "execution_count": 2,
   "id": "3201bf1d-ab22-4144-9d1b-821918f74b0f",
   "metadata": {},
   "outputs": [],
   "source": [
    "init_value = 1000\n",
    "interest_rate = 0.07\n",
    "compound_freq = 'daily'"
   ]
  },
  {
   "cell_type": "code",
   "execution_count": 3,
   "id": "503ea082-87c8-4920-b1aa-f11d3359b099",
   "metadata": {},
   "outputs": [
    {
     "name": "stdout",
     "output_type": "stream",
     "text": [
      "[ 1  2  3  4  5  6  7  8  9 10]\n",
      "(1, 1072.500983171158) (2, 1150.2583589031) (3, 1233.6532208244173) (4, 1323.0942922264528) (5, 1419.0199292410177) (6, 1521.9002692504585) (7, 1632.2395350595662) (8, 1750.5785061222184) (9, 1877.4971689343758) (10, 2013.6175595831833)\n",
      "(1, 1072.2900808562358) (2, 1149.806017502673) (3, 1232.925587476928) (4, 1322.0538778853575) (5, 1417.6252596139902) (6, 1520.105504255328) (7, 1629.994054067955) (8, 1747.8264560317114) (9, 1874.176971860912) (10, 2009.6613766956327)\n",
      "(1, 1070.0) (2, 1144.9) (3, 1225.0430000000001) (4, 1310.7960100000003) (5, 1402.5517307000005) (6, 1500.7303518490005) (7, 1605.7814764784307) (8, 1718.186179831921) (9, 1838.4592124201556) (10, 1967.1513572895665)\n"
     ]
    }
   ],
   "source": [
    "# Map out growth for 10 years\n",
    "num_years = np.arange(1,11)\n",
    "print(num_years)\n",
    "print(*zip(num_years, init_value * (1 + interest_rate/365)**(365 * num_years)))\n",
    "print(*zip(num_years, init_value * (1 + interest_rate/12)**(12 * num_years)))\n",
    "print(*zip(num_years, init_value * (1 + interest_rate/1)**(num_years)))\n",
    "\n"
   ]
  },
  {
   "cell_type": "code",
   "execution_count": 4,
   "id": "09d8bd1a-2dd5-42d6-96b8-3fd856d5f6a9",
   "metadata": {},
   "outputs": [
    {
     "name": "stdout",
     "output_type": "stream",
     "text": [
      "(1, 1072.500983171158) (2, 1150.2583589031) (3, 1233.6532208244173) (4, 1323.0942922264528) (5, 1419.0199292410177) (6, 1521.9002692504585) (7, 1632.2395350595662) (8, 1750.5785061222184) (9, 1877.4971689343758) (10, 2013.6175595831833)\n",
      "(1, 1072.2900808562358) (2, 1149.806017502673) (3, 1232.925587476928) (4, 1322.0538778853575) (5, 1417.6252596139902) (6, 1520.105504255328) (7, 1629.994054067955) (8, 1747.8264560317114) (9, 1874.176971860912) (10, 2009.6613766956327)\n",
      "(1, 1070.0) (2, 1144.9) (3, 1225.0430000000001) (4, 1310.7960100000003) (5, 1402.5517307000005) (6, 1500.7303518490005) (7, 1605.7814764784307) (8, 1718.186179831921) (9, 1838.4592124201556) (10, 1967.1513572895665)\n"
     ]
    }
   ],
   "source": [
    "# Repeat this with my functions\n",
    "num_years = np.arange(1,11)\n",
    "for freq in ['daily', 'monthly', 'yearly']:\n",
    "    debt = AccruingAccount(compound_freq=freq)\n",
    "    print(*zip(num_years, debt.compound_interest(num_years)))\n",
    "\n"
   ]
  },
  {
   "cell_type": "markdown",
   "id": "6f7976c7-1106-4b20-baa9-37faf99aa98c",
   "metadata": {},
   "source": [
    "# Model income over time\n",
    "Include basic function that models income with a 5% increase every year"
   ]
  },
  {
   "cell_type": "code",
   "execution_count": 8,
   "id": "80987f57-4c19-44cc-9f7c-7c75a84558f9",
   "metadata": {},
   "outputs": [
    {
     "name": "stdout",
     "output_type": "stream",
     "text": [
      "(1, 94500.0) (2, 99225.0) (3, 104186.25000000001) (4, 109395.56250000001) (5, 114865.34062500003) (6, 120608.60765625004) (7, 126639.03803906254) (8, 132970.98994101566) (9, 139619.53943806645) (10, 146600.51640996977)\n"
     ]
    }
   ],
   "source": [
    "income = Income(value=90000)\n",
    "print(*zip(num_years, income.compound_interest(num_years)))"
   ]
  },
  {
   "cell_type": "markdown",
   "id": "c6a1c624-7c0e-48c8-ad4a-1a2e490aca33",
   "metadata": {},
   "source": []
  }
 ],
 "metadata": {
  "kernelspec": {
   "display_name": "Python 3 (ipykernel)",
   "language": "python",
   "name": "python3"
  },
  "language_info": {
   "codemirror_mode": {
    "name": "ipython",
    "version": 3
   },
   "file_extension": ".py",
   "mimetype": "text/x-python",
   "name": "python",
   "nbconvert_exporter": "python",
   "pygments_lexer": "ipython3",
   "version": "3.9.16"
  }
 },
 "nbformat": 4,
 "nbformat_minor": 5
}
