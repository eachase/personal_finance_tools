{
 "cells": [
  {
   "cell_type": "code",
   "execution_count": 3,
   "id": "3cfaa430-41a8-46bb-a144-4d21ee1feca3",
   "metadata": {},
   "outputs": [],
   "source": [
    "import numpy as np\n"
   ]
  },
  {
   "cell_type": "code",
   "execution_count": 4,
   "id": "3201bf1d-ab22-4144-9d1b-821918f74b0f",
   "metadata": {},
   "outputs": [],
   "source": [
    "init_value = 1000\n",
    "interest_rate = 0.07\n",
    "compound_freq = 'daily'"
   ]
  },
  {
   "cell_type": "code",
   "execution_count": 5,
   "id": "503ea082-87c8-4920-b1aa-f11d3359b099",
   "metadata": {},
   "outputs": [
    {
     "name": "stdout",
     "output_type": "stream",
     "text": [
      "[ 1  2  3  4  5  6  7  8  9 10]\n",
      "[1072.50098317 1150.2583589  1233.65322082 1323.09429223 1419.01992924\n",
      " 1521.90026925 1632.23953506 1750.57850612 1877.49716893 2013.61755958]\n",
      "[1072.29008086 1149.8060175  1232.92558748 1322.05387789 1417.62525961\n",
      " 1520.10550426 1629.99405407 1747.82645603 1874.17697186 2009.6613767 ]\n",
      "[1070.         1144.9        1225.043      1310.79601    1402.5517307\n",
      " 1500.73035185 1605.78147648 1718.18617983 1838.45921242 1967.15135729]\n"
     ]
    }
   ],
   "source": [
    "# Map out growth for 10 years\n",
    "num_years = np.arange(1,11)\n",
    "print(num_years)\n",
    "print(init_value * (1 + interest_rate/365)**(365 * num_years))\n",
    "print(init_value * (1 + interest_rate/12)**(12 * num_years))\n",
    "print(init_value * (1 + interest_rate/1)**(1 * num_years))\n",
    "\n"
   ]
  },
  {
   "cell_type": "code",
   "execution_count": 6,
   "id": "55c383f9-487a-4c14-a826-cc3c21155fdb",
   "metadata": {},
   "outputs": [],
   "source": [
    "from accounts import AccruingAccount"
   ]
  },
  {
   "cell_type": "code",
   "execution_count": 7,
   "id": "09d8bd1a-2dd5-42d6-96b8-3fd856d5f6a9",
   "metadata": {},
   "outputs": [
    {
     "name": "stdout",
     "output_type": "stream",
     "text": [
      "[1072.50098317 1150.2583589  1233.65322082 1323.09429223 1419.01992924\n",
      " 1521.90026925 1632.23953506 1750.57850612 1877.49716893 2013.61755958]\n",
      "[1072.29008086 1149.8060175  1232.92558748 1322.05387789 1417.62525961\n",
      " 1520.10550426 1629.99405407 1747.82645603 1874.17697186 2009.6613767 ]\n",
      "[1070.         1144.9        1225.043      1310.79601    1402.5517307\n",
      " 1500.73035185 1605.78147648 1718.18617983 1838.45921242 1967.15135729]\n"
     ]
    }
   ],
   "source": [
    "# Repeat this with my functions\n",
    "num_years = np.arange(1,11)\n",
    "for freq in ['daily', 'monthly', 'yearly']:\n",
    "    debt = AccruingAccount(compound_freq=freq)\n",
    "    print(debt.compound_interest(num_years))\n",
    "\n"
   ]
  },
  {
   "cell_type": "code",
   "execution_count": null,
   "id": "a6a5fc0a-8688-4bc0-85f6-2649ab0ab6ec",
   "metadata": {},
   "outputs": [],
   "source": []
  },
  {
   "cell_type": "code",
   "execution_count": null,
   "id": "80987f57-4c19-44cc-9f7c-7c75a84558f9",
   "metadata": {},
   "outputs": [],
   "source": []
  }
 ],
 "metadata": {
  "kernelspec": {
   "display_name": "Python 3 (ipykernel)",
   "language": "python",
   "name": "python3"
  },
  "language_info": {
   "codemirror_mode": {
    "name": "ipython",
    "version": 3
   },
   "file_extension": ".py",
   "mimetype": "text/x-python",
   "name": "python",
   "nbconvert_exporter": "python",
   "pygments_lexer": "ipython3",
   "version": "3.9.16"
  }
 },
 "nbformat": 4,
 "nbformat_minor": 5
}
